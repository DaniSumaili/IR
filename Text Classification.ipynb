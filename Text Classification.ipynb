{
 "cells": [
  {
   "cell_type": "markdown",
   "metadata": {
    "scrolled": true
   },
   "source": [
    "# TEXT CLASSIFICATION"
   ]
  },
  {
   "cell_type": "markdown",
   "metadata": {},
   "source": [
    "## Combine CU Faculty data with researchers research interest  from CU webpages"
   ]
  },
  {
   "cell_type": "code",
   "execution_count": 1,
   "metadata": {},
   "outputs": [],
   "source": [
    "#import\n",
    "import numpy as np\n",
    "from sklearn.feature_extraction.text import CountVectorizer, TfidfVectorizer\n",
    "from sklearn.pipeline import Pipeline\n",
    "from sklearn.linear_model import LogisticRegression\n",
    "from joblib import dump, load\n",
    "import seaborn as sns\n",
    "import pandas as pd\n",
    "import re\n",
    "import nltk\n",
    "from sklearn.datasets import load_files\n",
    "#nltk.download('stopwords')\n",
    "import pickle\n",
    "from nltk.corpus import stopwords"
   ]
  },
  {
   "cell_type": "code",
   "execution_count": null,
   "metadata": {},
   "outputs": [],
   "source": [
    "f1a = pd.DataFrame(pd.read_csv('cov_reasearch.csv'))\n",
    "f1b = f1a.loc[f1a['research_interest'].str.startswith(\"Research Interests:\")] #select only with Research Interests:\n",
    "f2a = pd.DataFrame(pd.read_csv('Finded_URL_All.csv'))\n",
    "facultDept = pd.merge(f1b, f2a, how='left', left_on='names_2', right_on='pernames')\n",
    "drop_cols = ['Unnamed: 0_x', 'Unnamed: 0_y', 'mainfaculty']\n",
    "facultyDept = facultDept.drop(drop_cols, axis=1)\n",
    "facultyDept.to_csv('research_facultyDept.csv')"
   ]
  },
  {
   "cell_type": "code",
   "execution_count": null,
   "metadata": {},
   "outputs": [],
   "source": [
    "facultyDept.head()"
   ]
  },
  {
   "cell_type": "markdown",
   "metadata": {},
   "source": [
    "### Reading in required data"
   ]
  },
  {
   "cell_type": "code",
   "execution_count": 2,
   "metadata": {},
   "outputs": [
    {
     "data": {
      "text/html": [
       "<div>\n",
       "<style scoped>\n",
       "    .dataframe tbody tr th:only-of-type {\n",
       "        vertical-align: middle;\n",
       "    }\n",
       "\n",
       "    .dataframe tbody tr th {\n",
       "        vertical-align: top;\n",
       "    }\n",
       "\n",
       "    .dataframe thead th {\n",
       "        text-align: right;\n",
       "    }\n",
       "</style>\n",
       "<table border=\"1\" class=\"dataframe\">\n",
       "  <thead>\n",
       "    <tr style=\"text-align: right;\">\n",
       "      <th></th>\n",
       "      <th>names_2</th>\n",
       "      <th>link_CU</th>\n",
       "      <th>research_interest</th>\n",
       "      <th>subfaculty</th>\n",
       "      <th>faculty</th>\n",
       "      <th>ID</th>\n",
       "    </tr>\n",
       "  </thead>\n",
       "  <tbody>\n",
       "    <tr>\n",
       "      <th>0</th>\n",
       "      <td>Mai Abbas</td>\n",
       "      <td>https://pureportal.coventry.ac.uk/en/persons/m...</td>\n",
       "      <td>Research Interests: Mai’s research interests i...</td>\n",
       "      <td>NaN</td>\n",
       "      <td>NaN</td>\n",
       "      <td>1</td>\n",
       "    </tr>\n",
       "    <tr>\n",
       "      <th>1</th>\n",
       "      <td>Jackie Abell</td>\n",
       "      <td>https://pureportal.coventry.ac.uk/en/persons/j...</td>\n",
       "      <td>Research Interests: Identity\\n; Conservation\\n...</td>\n",
       "      <td>NaN</td>\n",
       "      <td>NaN</td>\n",
       "      <td>2</td>\n",
       "    </tr>\n",
       "    <tr>\n",
       "      <th>2</th>\n",
       "      <td>Zahir Ahmad</td>\n",
       "      <td>https://pureportal.coventry.ac.uk/en/persons/z...</td>\n",
       "      <td>Research Interests: Sensor network; V2V commun...</td>\n",
       "      <td>School of Computing, Electronics and Maths</td>\n",
       "      <td>Faculty of Engineering, Environment &amp; Computing</td>\n",
       "      <td>3</td>\n",
       "    </tr>\n",
       "    <tr>\n",
       "      <th>3</th>\n",
       "      <td>Abdullahi Ahmed</td>\n",
       "      <td>https://pureportal.coventry.ac.uk/en/persons/a...</td>\n",
       "      <td>Research Interests: Energy Policy; Renewable E...</td>\n",
       "      <td>School of Energy, Construction and Environment</td>\n",
       "      <td>Faculty of Engineering, Environment &amp; Computing</td>\n",
       "      <td>4</td>\n",
       "    </tr>\n",
       "    <tr>\n",
       "      <th>4</th>\n",
       "      <td>Ammar Al Bazi</td>\n",
       "      <td>https://pureportal.coventry.ac.uk/en/persons/a...</td>\n",
       "      <td>Research Interests: Spatial simulation\\n; Visu...</td>\n",
       "      <td>School of Mechanical, Aerospace and Automotive...</td>\n",
       "      <td>Faculty of Engineering, Environment &amp; Computing</td>\n",
       "      <td>5</td>\n",
       "    </tr>\n",
       "  </tbody>\n",
       "</table>\n",
       "</div>"
      ],
      "text/plain": [
       "           names_2                                            link_CU  \\\n",
       "0        Mai Abbas  https://pureportal.coventry.ac.uk/en/persons/m...   \n",
       "1     Jackie Abell  https://pureportal.coventry.ac.uk/en/persons/j...   \n",
       "2      Zahir Ahmad  https://pureportal.coventry.ac.uk/en/persons/z...   \n",
       "3  Abdullahi Ahmed  https://pureportal.coventry.ac.uk/en/persons/a...   \n",
       "4    Ammar Al Bazi  https://pureportal.coventry.ac.uk/en/persons/a...   \n",
       "\n",
       "                                   research_interest  \\\n",
       "0  Research Interests: Mai’s research interests i...   \n",
       "1  Research Interests: Identity\\n; Conservation\\n...   \n",
       "2  Research Interests: Sensor network; V2V commun...   \n",
       "3  Research Interests: Energy Policy; Renewable E...   \n",
       "4  Research Interests: Spatial simulation\\n; Visu...   \n",
       "\n",
       "                                          subfaculty  \\\n",
       "0                                                NaN   \n",
       "1                                                NaN   \n",
       "2         School of Computing, Electronics and Maths   \n",
       "3     School of Energy, Construction and Environment   \n",
       "4  School of Mechanical, Aerospace and Automotive...   \n",
       "\n",
       "                                           faculty  ID  \n",
       "0                                              NaN   1  \n",
       "1                                              NaN   2  \n",
       "2  Faculty of Engineering, Environment & Computing   3  \n",
       "3  Faculty of Engineering, Environment & Computing   4  \n",
       "4  Faculty of Engineering, Environment & Computing   5  "
      ]
     },
     "execution_count": 2,
     "metadata": {},
     "output_type": "execute_result"
    }
   ],
   "source": [
    "#add the ID column and drop the page index from crawling \n",
    "coventry_rea = pd.read_csv('research_facultyDept.csv')\n",
    "coventry_rea['ID'] = [x for x in range(1, len(coventry_rea.values)+1)]\n",
    "drop_cols = [coventry_rea.columns[0], \"pernames\"]\n",
    "coventry_rea.drop(drop_cols, axis=1, inplace=True)\n",
    "coventry_rea.research_interest=coventry_rea.research_interest.astype(str) #avoid been seen as a float \n",
    "coventry_rea.head()"
   ]
  },
  {
   "cell_type": "markdown",
   "metadata": {},
   "source": [
    "# TEXT CLASSIFICATION"
   ]
  },
  {
   "cell_type": "markdown",
   "metadata": {},
   "source": [
    "##### Data check on faculty population "
   ]
  },
  {
   "cell_type": "code",
   "execution_count": null,
   "metadata": {},
   "outputs": [],
   "source": [
    "X,y = coventry_rea.research_interest, coventry_rea.faculty"
   ]
  },
  {
   "cell_type": "code",
   "execution_count": null,
   "metadata": {},
   "outputs": [],
   "source": [
    "g = sns.catplot(y=\"faculty\", kind=\"count\", palette='bright', data=coventry_rea)\n",
    "g.fig.set_size_inches(20, 5)\n",
    "\n",
    "g.set_xlabels('Number of instances', fontsize=14)\n",
    "g.set_ylabels('classes', fontsize=14)"
   ]
  },
  {
   "cell_type": "code",
   "execution_count": null,
   "metadata": {},
   "outputs": [],
   "source": [
    "coventry_rea['faculty'].value_counts()"
   ]
  },
  {
   "cell_type": "markdown",
   "metadata": {},
   "source": [
    "Rows with faculties "
   ]
  },
  {
   "cell_type": "code",
   "execution_count": 4,
   "metadata": {},
   "outputs": [
    {
     "data": {
      "text/plain": [
       "300"
      ]
     },
     "execution_count": 4,
     "metadata": {},
     "output_type": "execute_result"
    }
   ],
   "source": [
    "len(coventry_rea.faculty)-(coventry_rea.faculty.isna().sum())"
   ]
  },
  {
   "cell_type": "code",
   "execution_count": null,
   "metadata": {},
   "outputs": [],
   "source": [
    "coventry_rea.faculty.isna().sum()"
   ]
  },
  {
   "cell_type": "code",
   "execution_count": null,
   "metadata": {},
   "outputs": [],
   "source": [
    "len(coventry_rea.research_interest)-(coventry_rea.research_interest.isna().sum())"
   ]
  },
  {
   "cell_type": "markdown",
   "metadata": {},
   "source": [
    "Remove Null values from Label(faculty column)"
   ]
  },
  {
   "cell_type": "code",
   "execution_count": 3,
   "metadata": {},
   "outputs": [],
   "source": [
    "coventry_rea2= coventry_rea.dropna(subset = ['faculty'])\n",
    "coventry_rea2 = coventry_rea2.reset_index(drop=True)\n",
    "\n",
    "#coventry_rea2.head()"
   ]
  },
  {
   "cell_type": "code",
   "execution_count": 5,
   "metadata": {},
   "outputs": [],
   "source": [
    "coventry_rea2['research_interest'] = coventry_rea2['research_interest'].str[19:]"
   ]
  },
  {
   "cell_type": "code",
   "execution_count": null,
   "metadata": {},
   "outputs": [],
   "source": [
    "coventry_rea2.head()"
   ]
  },
  {
   "cell_type": "code",
   "execution_count": 6,
   "metadata": {},
   "outputs": [
    {
     "data": {
      "text/plain": [
       "names_2                object\n",
       "link_CU                object\n",
       "research_interest      object\n",
       "subfaculty             object\n",
       "faculty              category\n",
       "ID                      int64\n",
       "dtype: object"
      ]
     },
     "execution_count": 6,
     "metadata": {},
     "output_type": "execute_result"
    }
   ],
   "source": [
    "#change the faculty column into category \n",
    "coventry_rea2[\"faculty\"] = coventry_rea2[\"faculty\"].astype('category')\n",
    "coventry_rea2.dtypes"
   ]
  },
  {
   "cell_type": "code",
   "execution_count": 7,
   "metadata": {},
   "outputs": [],
   "source": [
    "coventry_rea2[\"faculty_cat\"] = coventry_rea2[\"faculty\"].cat.codes\n",
    "#coventry_rea2"
   ]
  },
  {
   "cell_type": "code",
   "execution_count": null,
   "metadata": {},
   "outputs": [],
   "source": [
    "print(coventry_rea2['faculty'].unique())\n",
    "print('------------------------------------')\n",
    "print(coventry_rea2['faculty_cat'].unique())"
   ]
  },
  {
   "cell_type": "code",
   "execution_count": 8,
   "metadata": {},
   "outputs": [],
   "source": [
    "# Create list_corpus\n",
    "token_list = coventry_rea2['research_interest'].tolist()\n",
    "list_corpus = []\n",
    "for tokens in token_list:\n",
    "    tokens = str(tokens) \n",
    "    tokens = tokens.replace(\"[\",\"\").replace(\"]\",\"\").replace(\"'\",\"\").replace(\",\",\"\")\n",
    "    list_corpus.append(tokens)\n",
    "#print(list_corpus[:5])\n"
   ]
  },
  {
   "cell_type": "code",
   "execution_count": 9,
   "metadata": {},
   "outputs": [],
   "source": [
    "# Get labels\n",
    "list_labels = []\n",
    "for l in coventry_rea2['faculty_cat'].tolist():\n",
    "    label = int(l)\n",
    "    list_labels.append(label)"
   ]
  },
  {
   "cell_type": "code",
   "execution_count": null,
   "metadata": {},
   "outputs": [],
   "source": [
    "#Do a check...\n",
    "print(list_corpus[:5])\n",
    "print(list_labels[:5])"
   ]
  },
  {
   "cell_type": "markdown",
   "metadata": {},
   "source": [
    "## Vectorizing Raw Data"
   ]
  },
  {
   "cell_type": "markdown",
   "metadata": {},
   "source": [
    "##### TF-IDF\n",
    "Creates a document-term matrix where the columns represent single unique terms (unigrams) but the cell represents a weighting meant to represent how important a word is to a document."
   ]
  },
  {
   "cell_type": "code",
   "execution_count": 10,
   "metadata": {},
   "outputs": [],
   "source": [
    "# Convert all review documents to a sparse matrix of token counts\n",
    "vectorizer = TfidfVectorizer() \n",
    "termDocumentMatrix = vectorizer.fit_transform(list_corpus) #this needs to include encoded tokens"
   ]
  },
  {
   "cell_type": "code",
   "execution_count": null,
   "metadata": {},
   "outputs": [],
   "source": [
    "termDocumentMatrix.shape #add additional column - 'user_encoded'\n",
    "termDocumentMatrix"
   ]
  },
  {
   "cell_type": "code",
   "execution_count": null,
   "metadata": {},
   "outputs": [],
   "source": [
    "#to change y into matrix might not be necessary\n",
    "list_labels = np.matrix(coventry_rea2['faculty_cat'])\n",
    "list_labels.shape"
   ]
  },
  {
   "cell_type": "markdown",
   "metadata": {},
   "source": []
  },
  {
   "cell_type": "markdown",
   "metadata": {},
   "source": [
    "#### remove punctuation, tokenize, remove stopwords, and stem"
   ]
  },
  {
   "cell_type": "markdown",
   "metadata": {},
   "source": [
    "##### Apply CountVectorizer"
   ]
  },
  {
   "cell_type": "code",
   "execution_count": null,
   "metadata": {},
   "outputs": [],
   "source": [
    "#y as 1 x 2 matrix \n",
    "from sklearn.model_selection import train_test_split\n",
    "X_train, X_test, y_train, y_test = train_test_split(termDocumentMatrix, np.transpose(list_labels), test_size = 0.20)"
   ]
  },
  {
   "cell_type": "code",
   "execution_count": 11,
   "metadata": {},
   "outputs": [],
   "source": [
    "from sklearn.model_selection import train_test_split\n",
    "X_train, X_test, y_train, y_test = train_test_split(termDocumentMatrix, list_labels, test_size = 0.20)"
   ]
  },
  {
   "cell_type": "code",
   "execution_count": null,
   "metadata": {},
   "outputs": [],
   "source": [
    "print(X_train.shape)\n",
    "print(X_test.shape)\n",
    "print('----------------')\n",
    "len(y_train)\n",
    "len(y_test)"
   ]
  },
  {
   "cell_type": "code",
   "execution_count": 12,
   "metadata": {},
   "outputs": [],
   "source": [
    "from sklearn.model_selection import train_test_split\n",
    "from sklearn.feature_extraction.text import CountVectorizer, TfidfVectorizer\n",
    "from sklearn.naive_bayes import MultinomialNB\n",
    "from sklearn import metrics\n",
    "from sklearn.model_selection import cross_val_score\n",
    "\n",
    "import pandas as pd\n",
    "import numpy as np\n",
    "import re"
   ]
  },
  {
   "cell_type": "code",
   "execution_count": 13,
   "metadata": {},
   "outputs": [],
   "source": [
    "from sklearn.metrics import accuracy_score, f1_score, precision_score, recall_score, classification_report\n",
    "\n",
    "def get_metrics(y_test, y_predicted):  \n",
    "    # true positives / (true positives+false positives)\n",
    "    precision = precision_score(y_test, y_predicted, pos_label=None,\n",
    "                                    average='weighted')             \n",
    "    # true positives / (true positives + false negatives)\n",
    "    recall = recall_score(y_test, y_predicted, pos_label=None,\n",
    "                              average='weighted')\n",
    "    \n",
    "    # harmonic mean of precision and recall\n",
    "    f1 = f1_score(y_test, y_predicted, pos_label=None, average='weighted')\n",
    "    \n",
    "    # true positives + true negatives/ total\n",
    "    accuracy = accuracy_score(y_test, y_predicted)\n",
    "    return accuracy, precision, recall, f1"
   ]
  },
  {
   "cell_type": "markdown",
   "metadata": {},
   "source": [
    "##### Gradient Boosting\n",
    "machine learning technique for regression and classification problems, which produces a prediction model in the form of an ensemble of weak prediction models, typically decision trees.\n",
    "Gradient boosting classifiers are a group of machine learning algorithms that combine many weak learning models together to create a strong predictive model. Decision trees are usually used when doing gradient boosting"
   ]
  },
  {
   "cell_type": "code",
   "execution_count": null,
   "metadata": {},
   "outputs": [],
   "source": [
    "from sklearn.ensemble import GradientBoostingClassifier"
   ]
  },
  {
   "cell_type": "code",
   "execution_count": null,
   "metadata": {},
   "outputs": [],
   "source": [
    "gb = GradientBoostingClassifier()"
   ]
  },
  {
   "cell_type": "code",
   "execution_count": null,
   "metadata": {},
   "outputs": [],
   "source": [
    "gb.fit(X_train, y_train)"
   ]
  },
  {
   "cell_type": "code",
   "execution_count": null,
   "metadata": {},
   "outputs": [],
   "source": [
    "y_predicted_counts_gb = gb.predict(X_test)"
   ]
  },
  {
   "cell_type": "code",
   "execution_count": null,
   "metadata": {},
   "outputs": [],
   "source": [
    "accuracy_gb, precision_gb, recall_gb, f1_gb = get_metrics(y_test, y_predicted_counts_gb)"
   ]
  },
  {
   "cell_type": "code",
   "execution_count": null,
   "metadata": {},
   "outputs": [],
   "source": [
    "accuracy_gb, precision_gb, recall_gb, f1_gb"
   ]
  },
  {
   "cell_type": "code",
   "execution_count": null,
   "metadata": {},
   "outputs": [],
   "source": [
    "print(\"faculty: vectorizer: TF-IDF, Classifier:GradientBoosting, accuracy = %.3f, precision = %.3f, recall = %.3f, f1 = %.3f\" % (accuracy_gb, precision_gb, recall_gb, f1_gb))"
   ]
  },
  {
   "cell_type": "code",
   "execution_count": null,
   "metadata": {},
   "outputs": [],
   "source": [
    "print(y_train.shape)\n",
    "print(y_predicted_counts_gb.shape)"
   ]
  },
  {
   "cell_type": "code",
   "execution_count": null,
   "metadata": {},
   "outputs": [],
   "source": [
    "print(\"faculty: vectorizer: CounterVectorizer, Classifier:GradientBoosting,\\naccuracy = %.3f, precision = %.3f, recall = %.3f, f1 = %.3f\" % (accuracy_gb, precision_gb, recall_gb, f1_gb) , sep= \"\\n\")\n",
    "import pylab as pl\n",
    "import matplotlib.pyplot as plt\n",
    "from sklearn import metrics\n",
    "from warnings import simplefilter #import warning filter\n",
    "simplefilter(action='ignore', category=FutureWarning) # ignore all future warnings\n",
    "labels = coventry_rea2['faculty_cat'].unique()\n",
    "cm = metrics.confusion_matrix(y_test,y_predicted_counts_gb, labels)\n",
    "fig = plt.figure()\n",
    "ax = fig.add_subplot(111)\n",
    "cax = ax.matshow(cm)\n",
    "plt.title('Confusion matrix of the classifier', y=1.08)\n",
    "fig.colorbar(cax)\n",
    "ax.set_xticklabels(labels)\n",
    "ax.set_yticklabels(labels)\n",
    "plt.xlabel('Predicted')\n",
    "plt.ylabel('True')\n",
    "#plt.legend(title= 'Faculty', loc='best' )\n",
    "plt.show()\n",
    "print(cm)"
   ]
  },
  {
   "cell_type": "markdown",
   "metadata": {},
   "source": [
    "#### Create a Multinominal Classifier\n",
    "The multinomial Naive Bayes classifier is suitable for classification with discrete features (e.g., word counts for text classification). The multinomial distribution normally requires integer feature counts. However, in practice, fractional counts such as tf-idf may also work"
   ]
  },
  {
   "cell_type": "code",
   "execution_count": 14,
   "metadata": {},
   "outputs": [],
   "source": [
    "from sklearn.naive_bayes import MultinomialNB"
   ]
  },
  {
   "cell_type": "code",
   "execution_count": 15,
   "metadata": {},
   "outputs": [],
   "source": [
    "mnb = MultinomialNB()"
   ]
  },
  {
   "cell_type": "code",
   "execution_count": 16,
   "metadata": {},
   "outputs": [
    {
     "data": {
      "text/plain": [
       "MultinomialNB()"
      ]
     },
     "execution_count": 16,
     "metadata": {},
     "output_type": "execute_result"
    }
   ],
   "source": [
    "#Train the model using the training sets\n",
    "mnb.fit(X_train, y_train)"
   ]
  },
  {
   "cell_type": "code",
   "execution_count": 17,
   "metadata": {},
   "outputs": [],
   "source": [
    "#Predict the response for test dataset\n",
    "y_predicted_counts = mnb.predict(X_test)"
   ]
  },
  {
   "cell_type": "code",
   "execution_count": 18,
   "metadata": {},
   "outputs": [],
   "source": [
    "accuracy_mnb, precision_mnb, recall_mnb, f1_mnb = get_metrics(y_test, y_predicted_counts)"
   ]
  },
  {
   "cell_type": "code",
   "execution_count": 19,
   "metadata": {},
   "outputs": [
    {
     "data": {
      "text/plain": [
       "(0.7, 0.8421052631578948, 0.7, 0.6855096348884382)"
      ]
     },
     "execution_count": 19,
     "metadata": {},
     "output_type": "execute_result"
    }
   ],
   "source": [
    "accuracy_mnb, precision_mnb, recall_mnb, f1_mnb"
   ]
  },
  {
   "cell_type": "code",
   "execution_count": null,
   "metadata": {},
   "outputs": [],
   "source": [
    "print(\"faculty: vectorizer: TF-IDF, Classifier:MultinomialNB,  accuracy = %.3f, precision = %.3f, recall = %.3f, f1 = %.3f\" % (accuracy_mnb, precision_mnb, recall_mnb, f1_mnb))"
   ]
  },
  {
   "cell_type": "code",
   "execution_count": 21,
   "metadata": {},
   "outputs": [
    {
     "name": "stdout",
     "output_type": "stream",
     "text": [
      "faculty: vectorizer: TF-IDF, Classifier:MultinomialNB, \n",
      "accuracy = 0.700, precision = 0.842, recall = 0.700, f1 = 0.686\n"
     ]
    },
    {
     "data": {
      "image/png": "[encoded data removed]",
      "text/plain": [
       "<Figure size 432x288 with 2 Axes>"
      ]
     },
     "metadata": {
      "needs_background": "light"
     },
     "output_type": "display_data"
    },
    {
     "name": "stdout",
     "output_type": "stream",
     "text": [
      "[[13  0  3  0]\n",
      " [ 0  5  6  0]\n",
      " [ 0  0 20  0]\n",
      " [ 0  0  9  4]]\n"
     ]
    }
   ],
   "source": [
    "print(\"faculty: vectorizer: TF-IDF, Classifier:MultinomialNB, \\naccuracy = %.3f, precision = %.3f, recall = %.3f, f1 = %.3f\" % (accuracy_mnb, precision_mnb, recall_mnb, f1_mnb))\n",
    "import pylab as pl\n",
    "import matplotlib.pyplot as plt\n",
    "from sklearn import metrics\n",
    "from warnings import simplefilter #import warning filter\n",
    "simplefilter(action='ignore', category=FutureWarning) # ignore all future warnings\n",
    "labels = coventry_rea2['faculty_cat'].unique()\n",
    "cm = metrics.confusion_matrix(y_test,y_predicted_counts, labels)\n",
    "fig = plt.figure()\n",
    "ax = fig.add_subplot(111)\n",
    "cax = ax.matshow(cm)\n",
    "plt.title('Confusion matrix of the classifier', y=1.08)\n",
    "fig.colorbar(cax)\n",
    "ax.set_xticklabels(labels)\n",
    "ax.set_yticklabels(labels)\n",
    "plt.xlabel('Predicted')\n",
    "plt.ylabel('True')\n",
    "plt.show()\n",
    "print(cm)"
   ]
  },
  {
   "cell_type": "markdown",
   "metadata": {},
   "source": [
    "#### LogisticRegression"
   ]
  },
  {
   "cell_type": "code",
   "execution_count": 22,
   "metadata": {},
   "outputs": [
    {
     "data": {
      "text/plain": [
       "LogisticRegression()"
      ]
     },
     "execution_count": 22,
     "metadata": {},
     "output_type": "execute_result"
    }
   ],
   "source": [
    "model = LogisticRegression()\n",
    "model.fit(X_train, y_train)"
   ]
  },
  {
   "cell_type": "code",
   "execution_count": 23,
   "metadata": {},
   "outputs": [],
   "source": [
    "y_pred = model.predict(X_test)"
   ]
  },
  {
   "cell_type": "code",
   "execution_count": 24,
   "metadata": {},
   "outputs": [
    {
     "name": "stdout",
     "output_type": "stream",
     "text": [
      "[[ 5  7  1  0]\n",
      " [ 0 20  0  0]\n",
      " [ 0  1 15  0]\n",
      " [ 0  2  2  7]]\n",
      "              precision    recall  f1-score   support\n",
      "\n",
      "           0       1.00      0.38      0.56        13\n",
      "           1       0.67      1.00      0.80        20\n",
      "           2       0.83      0.94      0.88        16\n",
      "           3       1.00      0.64      0.78        11\n",
      "\n",
      "    accuracy                           0.78        60\n",
      "   macro avg       0.88      0.74      0.75        60\n",
      "weighted avg       0.84      0.78      0.76        60\n",
      "\n",
      "0.7833333333333333\n"
     ]
    }
   ],
   "source": [
    "from sklearn.metrics import classification_report, confusion_matrix, accuracy_score\n",
    "\n",
    "print(confusion_matrix(y_test,y_pred))\n",
    "print(classification_report(y_test,y_pred))\n",
    "print(accuracy_score(y_test, y_pred))"
   ]
  },
  {
   "cell_type": "code",
   "execution_count": 25,
   "metadata": {},
   "outputs": [
    {
     "data": {
      "text/plain": [
       "['classifier.joblib']"
      ]
     },
     "execution_count": 25,
     "metadata": {},
     "output_type": "execute_result"
    }
   ],
   "source": [
    "dump(vectorizer, \"preprocessor.joblib\")\n",
    "dump(model, \"classifier.joblib\")"
   ]
  },
  {
   "cell_type": "code",
   "execution_count": 70,
   "metadata": {},
   "outputs": [],
   "source": [
    "preprocessor = load(\"preprocessor.joblib\")\n",
    "model = load(\"classifier.joblib\")\n",
    "\n",
    "def predict_topic():\n",
    "    text = input(\"Enter text to be predicted: \")\n",
    "    text = preprocessor.transform([text])\n",
    "    prediction = model.predict(text)[0]\n",
    "    dict = {\n",
    "        'Faculty of Engineering, Environment & Computing':2,\n",
    "        'Faculty of Health & Life Sciences ':3,\n",
    "        'Faculty of Business & Law':1,\n",
    "        'Faculty of Arts & Humanities': 0\n",
    "    }\n",
    "    for key,value in dict.items():\n",
    "        if prediction == value: \n",
    "            prediction = key \n",
    "            \n",
    "           \n",
    "    print(\"This area is most likely to be in {}.\" .format(prediction))"
   ]
  },
  {
   "cell_type": "code",
   "execution_count": 72,
   "metadata": {},
   "outputs": [
    {
     "name": "stdout",
     "output_type": "stream",
     "text": [
      "Enter text to be predicted: machine\n",
      "This area is most likely to be in Faculty of Engineering, Environment & Computing.\n"
     ]
    }
   ],
   "source": [
    "predict_topic()"
   ]
  },
  {
   "cell_type": "markdown",
   "metadata": {},
   "source": [
    "##### Count vectorization\n",
    "Creates a document-term matrix where the entry of each cell will be a count of the number of times that word occurred in that document."
   ]
  },
  {
   "cell_type": "code",
   "execution_count": null,
   "metadata": {},
   "outputs": [],
   "source": [
    "from sklearn.feature_extraction.text import CountVectorizer\n",
    "vectorizer = CountVectorizer(max_features=1500, min_df=5, max_df=0.7, stop_words=nltk.corpus.stopwords.words('english'))\n",
    "X = vectorizer.fit_transform(documents).toarray()"
   ]
  }
 ],
 "metadata": {
  "kernelspec": {
   "display_name": "Python 3",
   "language": "python",
   "name": "python3"
  },
  "language_info": {
   "codemirror_mode": {
    "name": "ipython",
    "version": 3
   },
   "file_extension": ".py",
   "mimetype": "text/x-python",
   "name": "python",
   "nbconvert_exporter": "python",
   "pygments_lexer": "ipython3",
   "version": "3.8.3"
  }
 },
 "nbformat": 4,
 "nbformat_minor": 4
}
